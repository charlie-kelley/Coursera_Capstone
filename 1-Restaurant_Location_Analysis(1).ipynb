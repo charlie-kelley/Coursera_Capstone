{
 "cells": [
  {
   "cell_type": "markdown",
   "metadata": {},
   "source": [
    "# Restaurant Location Selection"
   ]
  },
  {
   "cell_type": "markdown",
   "metadata": {},
   "source": [
    "## Table of Contents"
   ]
  },
  {
   "cell_type": "markdown",
   "metadata": {},
   "source": [
    "<p>\n",
    "    <ol>\n",
    "        <li>Introduction</li>\n",
    "        <li>Data</li>\n",
    "        <li>Methodology</li>\n",
    "        <li>Data Preparation</li>\n",
    "        <li>Exploratory Analysis</li>\n",
    "        <li>Cluster Analysis</li>\n",
    "        <li>Results</li>\n",
    "        <li>Discussion</li>\n",
    "        <li>Conclusion</li>\n",
    "    </ol>\n",
    "</p>"
   ]
  },
  {
   "cell_type": "markdown",
   "metadata": {},
   "source": [
    "## Introduction"
   ]
  },
  {
   "cell_type": "markdown",
   "metadata": {},
   "source": [
    "<p><strong>Business question</strong></p>\n",
    "\n",
    "<p>I am opening a restaurant in New York City and want to find the most profitable neighborhood location. The restaurant will be fast casual tacos and the target audience is younger consumers who live in the neighborhood or will take subways to get there.</p>\n",
    "\n",
    "<p>My initial hypotheses are that I can maximize revenue by selecting a location that has:</p>\n",
    "\n",
    "<ul>\n",
    "<li>High population density</li>\n",
    "<li>High concentration of 25-34 year olds</li> \n",
    "<li>High concentration of existing taco restaurants</li> \n",
    "<li>Close proximity to subway stops</li>\n",
    "</ul>\n",
    "\n",
    "<p><strong>Who would be interested in this analysis?</strong></p>\n",
    "\n",
    "<p>People would be interested in this project if they want to see a scalable and repeatable process for using publicly available data for selecting business locations based on customer profiles.</p>\n",
    "\n",
    "<p>With so many possible locations to choose from, KNN clustering will help me identify similar locations as a starting place to pick a final one.</p>\n"
   ]
  },
  {
   "cell_type": "markdown",
   "metadata": {},
   "source": [
    "## Data"
   ]
  },
  {
   "cell_type": "markdown",
   "metadata": {},
   "source": [
    "<p><strong>Foursquare API</strong></p>\n",
    "<p>From this API I will find out how many taco restaurants are located within a certain radius of each zip code. I will use a query to narrow down on establishments that sell tacos.</p>\n",
    "<p>Source: https://developer.foursquare.com</p>\n",
    "\n",
    "<p><strong>NYC Zip Codes and Neighborhoods</strong></p>\n",
    "<p>Scraped from NYC Department of Public Health – this table breaks down NYC Zip Codes by neighborhood for additional context.</p>\n",
    "<p>Source: https://www.health.ny.gov/statistics/cancer/registry/appendix/neighborhoods.htm</p>\n",
    "\n",
    "<p><strong>US Zip Code Latitude and Longitude</strong></p>\n",
    "<p>This file contains the latitude and longitude of each zip code in US.</p>\n",
    "<p>Source: https://gist.github.com/erichurst/7882666</p>\n",
    "\n",
    "<p><strong>NYC Subway Locations</strong></p>\n",
    "<p>This file contains the latitude and longitude of each subway entrance in NYC.</p>\n",
    "<p>Source: https://datamine.mta.info/</p>\n"
   ]
  },
  {
   "cell_type": "markdown",
   "metadata": {},
   "source": [
    "## Methodology"
   ]
  },
  {
   "cell_type": "markdown",
   "metadata": {},
   "source": [
    "### Data Preparation"
   ]
  },
  {
   "cell_type": "markdown",
   "metadata": {},
   "source": [
    "#### Import Libraries"
   ]
  },
  {
   "cell_type": "code",
   "execution_count": 1,
   "metadata": {},
   "outputs": [
    {
     "name": "stdout",
     "output_type": "stream",
     "text": [
      "Solving environment: done\n",
      "\n",
      "## Package Plan ##\n",
      "\n",
      "  environment location: /home/jupyterlab/conda\n",
      "\n",
      "  added / updated specs: \n",
      "    - geopy\n",
      "\n",
      "\n",
      "The following packages will be downloaded:\n",
      "\n",
      "    package                    |            build\n",
      "    ---------------------------|-----------------\n",
      "    cryptography-2.5           |   py36h1ba5d50_0         643 KB\n",
      "    conda-4.6.3                |           py36_0         872 KB  conda-forge\n",
      "    geographiclib-1.49         |             py_0          32 KB  conda-forge\n",
      "    openssl-1.1.1a             |    h14c3975_1000         4.0 MB  conda-forge\n",
      "    libarchive-3.3.3           |       h5d8350f_5         1.5 MB\n",
      "    grpcio-1.16.1              |   py36hf8bcb03_1         1.1 MB\n",
      "    geopy-1.18.1               |             py_0          51 KB  conda-forge\n",
      "    libssh2-1.8.0              |                1         239 KB  conda-forge\n",
      "    python-3.6.8               |       h0371630_0        34.4 MB\n",
      "    ------------------------------------------------------------\n",
      "                                           Total:        42.7 MB\n",
      "\n",
      "The following NEW packages will be INSTALLED:\n",
      "\n",
      "    geographiclib: 1.49-py_0                conda-forge\n",
      "\n",
      "The following packages will be UPDATED:\n",
      "\n",
      "    conda:         4.5.12-py36_1000         conda-forge --> 4.6.3-py36_0            conda-forge\n",
      "    cryptography:  2.3.1-py36hb7f436b_1000  conda-forge --> 2.5-py36h1ba5d50_0                 \n",
      "    curl:          7.63.0-h646f8bb_1000     conda-forge --> 7.63.0-hbc83047_1000               \n",
      "    geopy:         1.11.0-py36_0            conda-forge --> 1.18.1-py_0             conda-forge\n",
      "    grpcio:        1.16.0-py36h4f00d22_1000 conda-forge --> 1.16.1-py36hf8bcb03_1              \n",
      "    libcurl:       7.63.0-h01ee5af_1000     conda-forge --> 7.63.0-h20c2e04_1000               \n",
      "    openssl:       1.0.2p-h14c3975_1002     conda-forge --> 1.1.1a-h14c3975_1000    conda-forge\n",
      "    pycurl:        7.43.0.2-py36hb7f436b_0              --> 7.43.0.2-py36h1ba5d50_0            \n",
      "    python:        3.6.6-hd21baee_1003      conda-forge --> 3.6.8-h0371630_0                   \n",
      "    qt:            5.9.6-h8703b6f_2                     --> 5.9.7-h5867ecd_1                   \n",
      "\n",
      "The following packages will be DOWNGRADED:\n",
      "\n",
      "    krb5:          1.16.2-hc83ff2d_1000     conda-forge --> 1.16.1-h173b8e3_7                  \n",
      "    libarchive:    3.3.3-ha149a29_1000      conda-forge --> 3.3.3-h5d8350f_5                   \n",
      "    libssh2:       1.8.0-h1ad7b7a_1003      conda-forge --> 1.8.0-1                 conda-forge\n",
      "\n",
      "\n",
      "Downloading and Extracting Packages\n",
      "cryptography-2.5     | 643 KB    | ##################################### | 100% \n",
      "conda-4.6.3          | 872 KB    | ##################################### | 100% \n",
      "geographiclib-1.49   | 32 KB     | ##################################### | 100% \n",
      "openssl-1.1.1a       | 4.0 MB    | ##################################### | 100% \n",
      "libarchive-3.3.3     | 1.5 MB    | ##################################### | 100% \n",
      "grpcio-1.16.1        | 1.1 MB    | ##################################### | 100% \n",
      "geopy-1.18.1         | 51 KB     | ##################################### | 100% \n",
      "libssh2-1.8.0        | 239 KB    | ##################################### | 100% \n",
      "python-3.6.8         | 34.4 MB   | ##################################### | 100% \n",
      "Preparing transaction: done\n",
      "Verifying transaction: done\n",
      "Executing transaction: done\n",
      "Collecting package metadata: done\n",
      "Solving environment: done\n",
      "\n",
      "# All requested packages already installed.\n",
      "\n",
      "Libraries imported.\n"
     ]
    }
   ],
   "source": [
    "import requests\n",
    "import pandas as pd\n",
    "from pandas import DataFrame\n",
    "pd.set_option('display.max_columns', None)\n",
    "pd.set_option('display.max_rows', None)\n",
    "\n",
    "import json # library to handle JSON files\n",
    "\n",
    "!conda install -c conda-forge geopy --yes # uncomment this line if you haven't completed the Foursquare API lab\n",
    "from geopy.geocoders import Nominatim # convert an address into latitude and longitude values\n",
    "\n",
    "from pandas.io.json import json_normalize # tranform JSON file into a pandas dataframe\n",
    "\n",
    "# Matplotlib and associated plotting modules\n",
    "import matplotlib.pyplot as plt\n",
    "import matplotlib.cm as cm\n",
    "import matplotlib.colors as colors\n",
    "\n",
    "# import k-means from clustering stage\n",
    "from sklearn.cluster import KMeans\n",
    "\n",
    "!conda install -c conda-forge folium=0.5.0 --yes # uncomment this line if you haven't completed the Foursquare API lab\n",
    "import folium # map rendering library\n",
    "\n",
    "print('Libraries imported.')"
   ]
  },
  {
   "cell_type": "markdown",
   "metadata": {},
   "source": [
    "#### Get Zip Codes and Neighborhoods"
   ]
  },
  {
   "cell_type": "code",
   "execution_count": 2,
   "metadata": {},
   "outputs": [],
   "source": [
    "#import library to parse HTML from page\n",
    "from bs4 import BeautifulSoup"
   ]
  },
  {
   "cell_type": "code",
   "execution_count": 3,
   "metadata": {},
   "outputs": [],
   "source": [
    "# Select page\n",
    "wiki = requests.get('https://www.health.ny.gov/statistics/cancer/registry/appendix/neighborhoods.htm').text\n",
    "\n",
    "# Save page as text object\n",
    "soup = BeautifulSoup(wiki, 'lxml')\n",
    "#print(soup.prettify())"
   ]
  },
  {
   "cell_type": "code",
   "execution_count": 4,
   "metadata": {},
   "outputs": [
    {
     "data": {
      "text/html": [
       "<div>\n",
       "<style scoped>\n",
       "    .dataframe tbody tr th:only-of-type {\n",
       "        vertical-align: middle;\n",
       "    }\n",
       "\n",
       "    .dataframe tbody tr th {\n",
       "        vertical-align: top;\n",
       "    }\n",
       "\n",
       "    .dataframe thead th {\n",
       "        text-align: right;\n",
       "    }\n",
       "</style>\n",
       "<table border=\"1\" class=\"dataframe\">\n",
       "  <thead>\n",
       "    <tr style=\"text-align: right;\">\n",
       "      <th></th>\n",
       "      <th>Neighborhood</th>\n",
       "      <th>ZipCodes</th>\n",
       "    </tr>\n",
       "  </thead>\n",
       "  <tbody>\n",
       "    <tr>\n",
       "      <th>0</th>\n",
       "      <td>Central Bronx</td>\n",
       "      <td>10453, 10457, 10460</td>\n",
       "    </tr>\n",
       "    <tr>\n",
       "      <th>1</th>\n",
       "      <td>Bronx Park and Fordham</td>\n",
       "      <td>10458, 10467, 10468</td>\n",
       "    </tr>\n",
       "    <tr>\n",
       "      <th>2</th>\n",
       "      <td>High Bridge and Morrisania</td>\n",
       "      <td>10451, 10452, 10456</td>\n",
       "    </tr>\n",
       "    <tr>\n",
       "      <th>3</th>\n",
       "      <td>Hunts Point and Mott Haven</td>\n",
       "      <td>10454, 10455, 10459, 10474</td>\n",
       "    </tr>\n",
       "    <tr>\n",
       "      <th>4</th>\n",
       "      <td>Kingsbridge and Riverdale</td>\n",
       "      <td>10463, 10471</td>\n",
       "    </tr>\n",
       "  </tbody>\n",
       "</table>\n",
       "</div>"
      ],
      "text/plain": [
       "                  Neighborhood                     ZipCodes\n",
       "0                Central Bronx          10453, 10457, 10460\n",
       "1       Bronx Park and Fordham          10458, 10467, 10468\n",
       "2   High Bridge and Morrisania          10451, 10452, 10456\n",
       "3   Hunts Point and Mott Haven   10454, 10455, 10459, 10474\n",
       "4    Kingsbridge and Riverdale                 10463, 10471"
      ]
     },
     "execution_count": 4,
     "metadata": {},
     "output_type": "execute_result"
    }
   ],
   "source": [
    "#find table information in Wiki page\n",
    "table = soup.find('table')\n",
    "\n",
    "#creating lists for each of the columns I know to be in my table.\n",
    "A=[]\n",
    "B=[]\n",
    "\n",
    "#append lists into one dataframe\n",
    "for row in table.findAll('tr'):\n",
    "    cells = row.findAll('td')\n",
    "    if len(cells)==3: #Only extract table body not heading\n",
    "        A.append(cells[1].find(text=True))\n",
    "        B.append(cells[2].find(text=True))\n",
    "    elif len(cells)==2:\n",
    "        A.append(cells[0].find(text=True))\n",
    "        B.append(cells[1].find(text=True))\n",
    "        \n",
    "\n",
    "df=pd.DataFrame(A,columns=['Neighborhood'])\n",
    "df['ZipCodes']=B\n",
    "\n",
    "\n",
    "#make PostalCode the index\n",
    "df.set_index('ZipCodes')\n",
    "\n",
    "df.head()"
   ]
  },
  {
   "cell_type": "code",
   "execution_count": 5,
   "metadata": {},
   "outputs": [
    {
     "data": {
      "text/plain": [
       "Neighborhood    object\n",
       "ZipCodes        object\n",
       "dtype: object"
      ]
     },
     "execution_count": 5,
     "metadata": {},
     "output_type": "execute_result"
    }
   ],
   "source": [
    "# Update Zip codes to string for merging\n",
    "df['ZipCodes'] = df['ZipCodes'].astype(str)\n",
    "df.dtypes"
   ]
  },
  {
   "cell_type": "code",
   "execution_count": 6,
   "metadata": {},
   "outputs": [
    {
     "data": {
      "text/html": [
       "<div>\n",
       "<style scoped>\n",
       "    .dataframe tbody tr th:only-of-type {\n",
       "        vertical-align: middle;\n",
       "    }\n",
       "\n",
       "    .dataframe tbody tr th {\n",
       "        vertical-align: top;\n",
       "    }\n",
       "\n",
       "    .dataframe thead th {\n",
       "        text-align: right;\n",
       "    }\n",
       "</style>\n",
       "<table border=\"1\" class=\"dataframe\">\n",
       "  <thead>\n",
       "    <tr style=\"text-align: right;\">\n",
       "      <th></th>\n",
       "      <th>ZipCodes</th>\n",
       "      <th>Neighborhood</th>\n",
       "    </tr>\n",
       "  </thead>\n",
       "  <tbody>\n",
       "    <tr>\n",
       "      <th>0</th>\n",
       "      <td>10453</td>\n",
       "      <td>Central Bronx</td>\n",
       "    </tr>\n",
       "    <tr>\n",
       "      <th>1</th>\n",
       "      <td>10457</td>\n",
       "      <td>Central Bronx</td>\n",
       "    </tr>\n",
       "    <tr>\n",
       "      <th>2</th>\n",
       "      <td>10460</td>\n",
       "      <td>Central Bronx</td>\n",
       "    </tr>\n",
       "    <tr>\n",
       "      <th>3</th>\n",
       "      <td>10458</td>\n",
       "      <td>Bronx Park and Fordham</td>\n",
       "    </tr>\n",
       "    <tr>\n",
       "      <th>4</th>\n",
       "      <td>10467</td>\n",
       "      <td>Bronx Park and Fordham</td>\n",
       "    </tr>\n",
       "  </tbody>\n",
       "</table>\n",
       "</div>"
      ],
      "text/plain": [
       "  ZipCodes             Neighborhood\n",
       "0    10453            Central Bronx\n",
       "1    10457            Central Bronx\n",
       "2    10460            Central Bronx\n",
       "3    10458   Bronx Park and Fordham\n",
       "4    10467   Bronx Park and Fordham"
      ]
     },
     "execution_count": 6,
     "metadata": {},
     "output_type": "execute_result"
    }
   ],
   "source": [
    "# Split up neighborhood rows by zip code\n",
    "df2 = DataFrame(df.ZipCodes.str.split(',').tolist(), index=df.Neighborhood).stack()\n",
    "df2 = df2.reset_index()[[0, 'Neighborhood']] # var1 variable is currently labeled 0\n",
    "df2.columns = ['ZipCodes', 'Neighborhood'] # renaming var1\n",
    "\n",
    "df2['ZipCodes'] = df2['ZipCodes'].str.strip()\n",
    "df2.sort_values(by=['ZipCodes'])\n",
    "df2.head()"
   ]
  },
  {
   "cell_type": "markdown",
   "metadata": {},
   "source": [
    "#### Get Latitude and Longitude for each Zip Code"
   ]
  },
  {
   "cell_type": "code",
   "execution_count": 7,
   "metadata": {},
   "outputs": [
    {
     "data": {
      "text/html": [
       "<div>\n",
       "<style scoped>\n",
       "    .dataframe tbody tr th:only-of-type {\n",
       "        vertical-align: middle;\n",
       "    }\n",
       "\n",
       "    .dataframe tbody tr th {\n",
       "        vertical-align: top;\n",
       "    }\n",
       "\n",
       "    .dataframe thead th {\n",
       "        text-align: right;\n",
       "    }\n",
       "</style>\n",
       "<table border=\"1\" class=\"dataframe\">\n",
       "  <thead>\n",
       "    <tr style=\"text-align: right;\">\n",
       "      <th></th>\n",
       "      <th>ZipCodes</th>\n",
       "      <th>LAT</th>\n",
       "      <th>LNG</th>\n",
       "    </tr>\n",
       "  </thead>\n",
       "  <tbody>\n",
       "    <tr>\n",
       "      <th>0</th>\n",
       "      <td>601</td>\n",
       "      <td>18.180555</td>\n",
       "      <td>-66.749961</td>\n",
       "    </tr>\n",
       "    <tr>\n",
       "      <th>1</th>\n",
       "      <td>602</td>\n",
       "      <td>18.361945</td>\n",
       "      <td>-67.175597</td>\n",
       "    </tr>\n",
       "    <tr>\n",
       "      <th>2</th>\n",
       "      <td>603</td>\n",
       "      <td>18.455183</td>\n",
       "      <td>-67.119887</td>\n",
       "    </tr>\n",
       "    <tr>\n",
       "      <th>3</th>\n",
       "      <td>606</td>\n",
       "      <td>18.158345</td>\n",
       "      <td>-66.932911</td>\n",
       "    </tr>\n",
       "    <tr>\n",
       "      <th>4</th>\n",
       "      <td>610</td>\n",
       "      <td>18.295366</td>\n",
       "      <td>-67.125135</td>\n",
       "    </tr>\n",
       "  </tbody>\n",
       "</table>\n",
       "</div>"
      ],
      "text/plain": [
       "  ZipCodes        LAT        LNG\n",
       "0      601  18.180555 -66.749961\n",
       "1      602  18.361945 -67.175597\n",
       "2      603  18.455183 -67.119887\n",
       "3      606  18.158345 -66.932911\n",
       "4      610  18.295366 -67.125135"
      ]
     },
     "execution_count": 7,
     "metadata": {},
     "output_type": "execute_result"
    }
   ],
   "source": [
    "# Read CSV\n",
    "zip_geo_df = pd.read_csv('zipcode_geo.csv')\n",
    "zip_geo_df = zip_geo_df.rename(index=str, columns={\"ZIP\": \"ZipCodes\"})\n",
    "zip_geo_df['ZipCodes'] = zip_geo_df['ZipCodes'].astype(str)\n",
    "zip_geo_df['ZipCodes'] = zip_geo_df['ZipCodes'].str.strip()\n",
    "zip_geo_df.head()"
   ]
  },
  {
   "cell_type": "code",
   "execution_count": 8,
   "metadata": {},
   "outputs": [
    {
     "data": {
      "text/plain": [
       "ZipCodes     object\n",
       "LAT         float64\n",
       "LNG         float64\n",
       "dtype: object"
      ]
     },
     "execution_count": 8,
     "metadata": {},
     "output_type": "execute_result"
    }
   ],
   "source": [
    "zip_geo_df.dtypes"
   ]
  },
  {
   "cell_type": "markdown",
   "metadata": {},
   "source": [
    "#### Merge Zip Codes and Latitude and Longitude"
   ]
  },
  {
   "cell_type": "code",
   "execution_count": 9,
   "metadata": {},
   "outputs": [
    {
     "data": {
      "text/html": [
       "<div>\n",
       "<style scoped>\n",
       "    .dataframe tbody tr th:only-of-type {\n",
       "        vertical-align: middle;\n",
       "    }\n",
       "\n",
       "    .dataframe tbody tr th {\n",
       "        vertical-align: top;\n",
       "    }\n",
       "\n",
       "    .dataframe thead th {\n",
       "        text-align: right;\n",
       "    }\n",
       "</style>\n",
       "<table border=\"1\" class=\"dataframe\">\n",
       "  <thead>\n",
       "    <tr style=\"text-align: right;\">\n",
       "      <th></th>\n",
       "      <th>ZipCodes</th>\n",
       "      <th>Neighborhood</th>\n",
       "      <th>LAT</th>\n",
       "      <th>LNG</th>\n",
       "    </tr>\n",
       "  </thead>\n",
       "  <tbody>\n",
       "    <tr>\n",
       "      <th>0</th>\n",
       "      <td>10453</td>\n",
       "      <td>Central Bronx</td>\n",
       "      <td>40.852779</td>\n",
       "      <td>-73.912332</td>\n",
       "    </tr>\n",
       "    <tr>\n",
       "      <th>1</th>\n",
       "      <td>10457</td>\n",
       "      <td>Central Bronx</td>\n",
       "      <td>40.847150</td>\n",
       "      <td>-73.898680</td>\n",
       "    </tr>\n",
       "    <tr>\n",
       "      <th>2</th>\n",
       "      <td>10460</td>\n",
       "      <td>Central Bronx</td>\n",
       "      <td>40.841758</td>\n",
       "      <td>-73.879571</td>\n",
       "    </tr>\n",
       "    <tr>\n",
       "      <th>3</th>\n",
       "      <td>10458</td>\n",
       "      <td>Bronx Park and Fordham</td>\n",
       "      <td>40.862543</td>\n",
       "      <td>-73.888143</td>\n",
       "    </tr>\n",
       "    <tr>\n",
       "      <th>4</th>\n",
       "      <td>10467</td>\n",
       "      <td>Bronx Park and Fordham</td>\n",
       "      <td>40.869953</td>\n",
       "      <td>-73.865746</td>\n",
       "    </tr>\n",
       "  </tbody>\n",
       "</table>\n",
       "</div>"
      ],
      "text/plain": [
       "  ZipCodes             Neighborhood        LAT        LNG\n",
       "0    10453            Central Bronx  40.852779 -73.912332\n",
       "1    10457            Central Bronx  40.847150 -73.898680\n",
       "2    10460            Central Bronx  40.841758 -73.879571\n",
       "3    10458   Bronx Park and Fordham  40.862543 -73.888143\n",
       "4    10467   Bronx Park and Fordham  40.869953 -73.865746"
      ]
     },
     "execution_count": 9,
     "metadata": {},
     "output_type": "execute_result"
    }
   ],
   "source": [
    "#merge and clean two dataframes\n",
    "df3 = df2.merge(zip_geo_df, on='ZipCodes')\n",
    "df3['ZipCodes'] = df3['ZipCodes'].str.strip()\n",
    "df3.head()"
   ]
  },
  {
   "cell_type": "code",
   "execution_count": 10,
   "metadata": {},
   "outputs": [
    {
     "data": {
      "text/plain": [
       "(177, 4)"
      ]
     },
     "execution_count": 10,
     "metadata": {},
     "output_type": "execute_result"
    }
   ],
   "source": [
    "df3.shape"
   ]
  },
  {
   "cell_type": "markdown",
   "metadata": {},
   "source": [
    "#### Get Population and Median Age by Zip Code"
   ]
  },
  {
   "cell_type": "code",
   "execution_count": 11,
   "metadata": {},
   "outputs": [
    {
     "data": {
      "text/html": [
       "<div>\n",
       "<style scoped>\n",
       "    .dataframe tbody tr th:only-of-type {\n",
       "        vertical-align: middle;\n",
       "    }\n",
       "\n",
       "    .dataframe tbody tr th {\n",
       "        vertical-align: top;\n",
       "    }\n",
       "\n",
       "    .dataframe thead th {\n",
       "        text-align: right;\n",
       "    }\n",
       "</style>\n",
       "<table border=\"1\" class=\"dataframe\">\n",
       "  <thead>\n",
       "    <tr style=\"text-align: right;\">\n",
       "      <th></th>\n",
       "      <th>ZIP</th>\n",
       "      <th>Population</th>\n",
       "      <th>Median_age</th>\n",
       "    </tr>\n",
       "  </thead>\n",
       "  <tbody>\n",
       "    <tr>\n",
       "      <th>0</th>\n",
       "      <td>601</td>\n",
       "      <td>18088</td>\n",
       "      <td>37.1</td>\n",
       "    </tr>\n",
       "    <tr>\n",
       "      <th>1</th>\n",
       "      <td>602</td>\n",
       "      <td>40859</td>\n",
       "      <td>39.0</td>\n",
       "    </tr>\n",
       "    <tr>\n",
       "      <th>2</th>\n",
       "      <td>603</td>\n",
       "      <td>53162</td>\n",
       "      <td>39.2</td>\n",
       "    </tr>\n",
       "    <tr>\n",
       "      <th>3</th>\n",
       "      <td>606</td>\n",
       "      <td>6415</td>\n",
       "      <td>39.2</td>\n",
       "    </tr>\n",
       "    <tr>\n",
       "      <th>4</th>\n",
       "      <td>610</td>\n",
       "      <td>28805</td>\n",
       "      <td>39.7</td>\n",
       "    </tr>\n",
       "  </tbody>\n",
       "</table>\n",
       "</div>"
      ],
      "text/plain": [
       "   ZIP  Population  Median_age\n",
       "0  601       18088        37.1\n",
       "1  602       40859        39.0\n",
       "2  603       53162        39.2\n",
       "3  606        6415        39.2\n",
       "4  610       28805        39.7"
      ]
     },
     "execution_count": 11,
     "metadata": {},
     "output_type": "execute_result"
    }
   ],
   "source": [
    "# Read Census data from CSV for all zip codes in America\n",
    "pop_age_df = pd.read_csv('Median age by ZIP code.csv')\n",
    "pop_age_df['ZIP'] = pop_age_df['ZIP'].astype(str)\n",
    "pop_age_df.head()"
   ]
  },
  {
   "cell_type": "markdown",
   "metadata": {},
   "source": [
    "#### Merge dataframes by Zip"
   ]
  },
  {
   "cell_type": "code",
   "execution_count": 12,
   "metadata": {},
   "outputs": [
    {
     "data": {
      "text/html": [
       "<div>\n",
       "<style scoped>\n",
       "    .dataframe tbody tr th:only-of-type {\n",
       "        vertical-align: middle;\n",
       "    }\n",
       "\n",
       "    .dataframe tbody tr th {\n",
       "        vertical-align: top;\n",
       "    }\n",
       "\n",
       "    .dataframe thead th {\n",
       "        text-align: right;\n",
       "    }\n",
       "</style>\n",
       "<table border=\"1\" class=\"dataframe\">\n",
       "  <thead>\n",
       "    <tr style=\"text-align: right;\">\n",
       "      <th></th>\n",
       "      <th>ZipCodes</th>\n",
       "      <th>Neighborhood</th>\n",
       "      <th>LAT</th>\n",
       "      <th>LNG</th>\n",
       "      <th>Population</th>\n",
       "      <th>Median_age</th>\n",
       "    </tr>\n",
       "  </thead>\n",
       "  <tbody>\n",
       "    <tr>\n",
       "      <th>0</th>\n",
       "      <td>10453</td>\n",
       "      <td>Central Bronx</td>\n",
       "      <td>40.852779</td>\n",
       "      <td>-73.912332</td>\n",
       "      <td>79002</td>\n",
       "      <td>31.0</td>\n",
       "    </tr>\n",
       "    <tr>\n",
       "      <th>1</th>\n",
       "      <td>10457</td>\n",
       "      <td>Central Bronx</td>\n",
       "      <td>40.847150</td>\n",
       "      <td>-73.898680</td>\n",
       "      <td>71015</td>\n",
       "      <td>29.4</td>\n",
       "    </tr>\n",
       "    <tr>\n",
       "      <th>2</th>\n",
       "      <td>10460</td>\n",
       "      <td>Central Bronx</td>\n",
       "      <td>40.841758</td>\n",
       "      <td>-73.879571</td>\n",
       "      <td>58676</td>\n",
       "      <td>30.0</td>\n",
       "    </tr>\n",
       "    <tr>\n",
       "      <th>3</th>\n",
       "      <td>10458</td>\n",
       "      <td>Bronx Park and Fordham</td>\n",
       "      <td>40.862543</td>\n",
       "      <td>-73.888143</td>\n",
       "      <td>76276</td>\n",
       "      <td>29.4</td>\n",
       "    </tr>\n",
       "    <tr>\n",
       "      <th>4</th>\n",
       "      <td>10467</td>\n",
       "      <td>Bronx Park and Fordham</td>\n",
       "      <td>40.869953</td>\n",
       "      <td>-73.865746</td>\n",
       "      <td>99251</td>\n",
       "      <td>33.1</td>\n",
       "    </tr>\n",
       "  </tbody>\n",
       "</table>\n",
       "</div>"
      ],
      "text/plain": [
       "  ZipCodes             Neighborhood        LAT        LNG  Population  \\\n",
       "0    10453            Central Bronx  40.852779 -73.912332       79002   \n",
       "1    10457            Central Bronx  40.847150 -73.898680       71015   \n",
       "2    10460            Central Bronx  40.841758 -73.879571       58676   \n",
       "3    10458   Bronx Park and Fordham  40.862543 -73.888143       76276   \n",
       "4    10467   Bronx Park and Fordham  40.869953 -73.865746       99251   \n",
       "\n",
       "   Median_age  \n",
       "0        31.0  \n",
       "1        29.4  \n",
       "2        30.0  \n",
       "3        29.4  \n",
       "4        33.1  "
      ]
     },
     "execution_count": 12,
     "metadata": {},
     "output_type": "execute_result"
    }
   ],
   "source": [
    "# Create new dataframe by merging dataframes on Zip\n",
    "df4 = df3.merge(pop_age_df, left_on='ZipCodes', right_on='ZIP')\n",
    "df4 = df4.drop(columns='ZIP')\n",
    "df4=df4.dropna()\n",
    "df4.head()"
   ]
  },
  {
   "cell_type": "code",
   "execution_count": 13,
   "metadata": {},
   "outputs": [
    {
     "name": "stdout",
     "output_type": "stream",
     "text": [
      "The dataframe has 175 ZipCodes and 42 Neighborhoods.\n"
     ]
    }
   ],
   "source": [
    "#describe the final dataset\n",
    "print('The dataframe has {} ZipCodes and {} Neighborhoods.'.format(\n",
    "        len(df4['ZipCodes'].unique()),\n",
    "        len(df4['Neighborhood'].unique())\n",
    "    )\n",
    ")"
   ]
  },
  {
   "cell_type": "markdown",
   "metadata": {},
   "source": [
    "#### Get nearby taco restaurants"
   ]
  },
  {
   "cell_type": "markdown",
   "metadata": {},
   "source": [
    "##### Connect to Foursquare API"
   ]
  },
  {
   "cell_type": "code",
   "execution_count": 14,
   "metadata": {},
   "outputs": [
    {
     "name": "stdout",
     "output_type": "stream",
     "text": [
      "Your credentails:\n",
      "CLIENT_ID: I0CN3Q0K0RZ0JZBXCRN1U2ADYMRNPN2OPNBCXNNCJJRC3GKK\n",
      "CLIENT_SECRET:DZGUDE2CQPNUHO0MJKEQNUT1B4TQC5JIDWTVGT5QGT2WWJFJ\n"
     ]
    }
   ],
   "source": [
    "CLIENT_ID = 'I0CN3Q0K0RZ0JZBXCRN1U2ADYMRNPN2OPNBCXNNCJJRC3GKK' # your Foursquare ID\n",
    "CLIENT_SECRET = 'DZGUDE2CQPNUHO0MJKEQNUT1B4TQC5JIDWTVGT5QGT2WWJFJ' # your Foursquare Secret\n",
    "VERSION = '20180605' # Foursquare API version\n",
    "\n",
    "print('Your credentails:')\n",
    "print('CLIENT_ID: ' + CLIENT_ID)\n",
    "print('CLIENT_SECRET:' + CLIENT_SECRET)"
   ]
  },
  {
   "cell_type": "markdown",
   "metadata": {},
   "source": [
    "#### Check out taco restaurants in one zip code"
   ]
  },
  {
   "cell_type": "code",
   "execution_count": 15,
   "metadata": {},
   "outputs": [
    {
     "data": {
      "text/plain": [
       "'10453'"
      ]
     },
     "execution_count": 15,
     "metadata": {},
     "output_type": "execute_result"
    }
   ],
   "source": [
    "# select the first neighborhood in dataframe\n",
    "df4.loc[0, 'ZipCodes']"
   ]
  },
  {
   "cell_type": "code",
   "execution_count": 16,
   "metadata": {},
   "outputs": [
    {
     "name": "stdout",
     "output_type": "stream",
     "text": [
      "Latitude and longitude values of 10453 are 40.852779, -73.91233199999999.\n"
     ]
    }
   ],
   "source": [
    "# get the latitude and longitude for the first neighborhood in dataframe\n",
    "neighborhood_latitude = df4.loc[0, 'LAT'] # neighborhood latitude value\n",
    "neighborhood_longitude = df4.loc[0, 'LNG'] # neighborhood longitude value\n",
    "\n",
    "zip_name = df4.loc[0, 'ZipCodes'] # neighborhood name\n",
    "\n",
    "print('Latitude and longitude values of {} are {}, {}.'.format(zip_name, \n",
    "                                                               neighborhood_latitude, \n",
    "                                                               neighborhood_longitude))"
   ]
  },
  {
   "cell_type": "code",
   "execution_count": 17,
   "metadata": {},
   "outputs": [
    {
     "data": {
      "text/plain": [
       "'https://api.foursquare.com/v2/venues/explore?&client_id=I0CN3Q0K0RZ0JZBXCRN1U2ADYMRNPN2OPNBCXNNCJJRC3GKK&client_secret=DZGUDE2CQPNUHO0MJKEQNUT1B4TQC5JIDWTVGT5QGT2WWJFJ&v=20180605&ll=40.852779,-73.91233199999999&query=tacos&radius=5000&limit=10'"
      ]
     },
     "execution_count": 17,
     "metadata": {},
     "output_type": "execute_result"
    }
   ],
   "source": [
    "# create API URL\n",
    "LIMIT = 10 # limit of number of venues returned by Foursquare API\n",
    "search_query = 'tacos'\n",
    "radius = 5000 # define radius\n",
    "\n",
    "url = 'https://api.foursquare.com/v2/venues/explore?&client_id={}&client_secret={}&v={}&ll={},{}&query={}&radius={}&limit={}'.format(\n",
    "    CLIENT_ID, \n",
    "    CLIENT_SECRET, \n",
    "    VERSION, \n",
    "    neighborhood_latitude, \n",
    "    neighborhood_longitude, \n",
    "    search_query,\n",
    "    radius, \n",
    "    LIMIT)\n",
    "\n",
    "url # display URL"
   ]
  },
  {
   "cell_type": "code",
   "execution_count": 18,
   "metadata": {},
   "outputs": [],
   "source": [
    "#create json of Foursquare results\n",
    "results = requests.get(url).json()\n",
    "#results"
   ]
  },
  {
   "cell_type": "code",
   "execution_count": 19,
   "metadata": {},
   "outputs": [],
   "source": [
    "#extract category of venue\n",
    "def get_category_type(row):\n",
    "    try:\n",
    "        categories_list = row['categories']\n",
    "    except:\n",
    "        categories_list = row['venue.categories']\n",
    "        \n",
    "    if len(categories_list) == 0:\n",
    "        return None\n",
    "    else:\n",
    "        return categories_list[0]['name']"
   ]
  },
  {
   "cell_type": "code",
   "execution_count": 20,
   "metadata": {},
   "outputs": [
    {
     "data": {
      "text/html": [
       "<div>\n",
       "<style scoped>\n",
       "    .dataframe tbody tr th:only-of-type {\n",
       "        vertical-align: middle;\n",
       "    }\n",
       "\n",
       "    .dataframe tbody tr th {\n",
       "        vertical-align: top;\n",
       "    }\n",
       "\n",
       "    .dataframe thead th {\n",
       "        text-align: right;\n",
       "    }\n",
       "</style>\n",
       "<table border=\"1\" class=\"dataframe\">\n",
       "  <thead>\n",
       "    <tr style=\"text-align: right;\">\n",
       "      <th></th>\n",
       "      <th>name</th>\n",
       "      <th>categories</th>\n",
       "      <th>lat</th>\n",
       "      <th>lng</th>\n",
       "    </tr>\n",
       "  </thead>\n",
       "  <tbody>\n",
       "    <tr>\n",
       "      <th>0</th>\n",
       "      <td>Estrellita Poblana</td>\n",
       "      <td>Mexican Restaurant</td>\n",
       "      <td>40.854010</td>\n",
       "      <td>-73.888923</td>\n",
       "    </tr>\n",
       "    <tr>\n",
       "      <th>1</th>\n",
       "      <td>Grito Mexican Grill</td>\n",
       "      <td>Mexican Restaurant</td>\n",
       "      <td>40.853643</td>\n",
       "      <td>-73.930886</td>\n",
       "    </tr>\n",
       "    <tr>\n",
       "      <th>2</th>\n",
       "      <td>Guacamole</td>\n",
       "      <td>Mexican Restaurant</td>\n",
       "      <td>40.869405</td>\n",
       "      <td>-73.916408</td>\n",
       "    </tr>\n",
       "    <tr>\n",
       "      <th>3</th>\n",
       "      <td>Tacos El Paisa</td>\n",
       "      <td>Mexican Restaurant</td>\n",
       "      <td>40.853318</td>\n",
       "      <td>-73.930760</td>\n",
       "    </tr>\n",
       "    <tr>\n",
       "      <th>4</th>\n",
       "      <td>Guadalupe Bar and Grill</td>\n",
       "      <td>Mexican Restaurant</td>\n",
       "      <td>40.867334</td>\n",
       "      <td>-73.920863</td>\n",
       "    </tr>\n",
       "  </tbody>\n",
       "</table>\n",
       "</div>"
      ],
      "text/plain": [
       "                      name          categories        lat        lng\n",
       "0       Estrellita Poblana  Mexican Restaurant  40.854010 -73.888923\n",
       "1      Grito Mexican Grill  Mexican Restaurant  40.853643 -73.930886\n",
       "2                Guacamole  Mexican Restaurant  40.869405 -73.916408\n",
       "3           Tacos El Paisa  Mexican Restaurant  40.853318 -73.930760\n",
       "4  Guadalupe Bar and Grill  Mexican Restaurant  40.867334 -73.920863"
      ]
     },
     "execution_count": 20,
     "metadata": {},
     "output_type": "execute_result"
    }
   ],
   "source": [
    "# create dataframe of venues\n",
    "venues = results['response']['groups'][0]['items']\n",
    "    \n",
    "nearby_venues = json_normalize(venues) # flatten JSON\n",
    "\n",
    "# filter columns\n",
    "filtered_columns = ['venue.name', 'venue.categories', 'venue.location.lat', 'venue.location.lng']\n",
    "nearby_venues =nearby_venues.loc[:, filtered_columns]\n",
    "\n",
    "# filter the category for each row\n",
    "nearby_venues['venue.categories'] = nearby_venues.apply(get_category_type, axis=1)\n",
    "\n",
    "# clean columns\n",
    "nearby_venues.columns = [col.split(\".\")[-1] for col in nearby_venues.columns]\n",
    "\n",
    "# View resulting dataframe\n",
    "nearby_venues.head()"
   ]
  },
  {
   "cell_type": "code",
   "execution_count": 21,
   "metadata": {},
   "outputs": [
    {
     "name": "stdout",
     "output_type": "stream",
     "text": [
      "10 venues were returned by Foursquare.\n"
     ]
    }
   ],
   "source": [
    "# see how many venues were returned\n",
    "print('{} venues were returned by Foursquare.'.format(nearby_venues.shape[0]))"
   ]
  },
  {
   "cell_type": "markdown",
   "metadata": {},
   "source": [
    "#### Find venues for all zip codes"
   ]
  },
  {
   "cell_type": "code",
   "execution_count": 22,
   "metadata": {},
   "outputs": [],
   "source": [
    "# function to extract venues from entire neighborhood dataframe\n",
    "def getNearbyVenues(names, latitudes, longitudes, radius=500):\n",
    "    \n",
    "    venues_list=[]\n",
    "    for name, lat, lng in zip(names, latitudes, longitudes):\n",
    "        print(name)\n",
    "            \n",
    "        # create the API request URL\n",
    "        url = 'https://api.foursquare.com/v2/venues/explore?&client_id={}&client_secret={}&v={}&ll={},{}&query={}&radius={}&limit={}'.format(\n",
    "            CLIENT_ID, \n",
    "            CLIENT_SECRET, \n",
    "            VERSION, \n",
    "            lat, \n",
    "            lng, \n",
    "            search_query,\n",
    "            radius, \n",
    "            LIMIT)\n",
    "            \n",
    "        # make the GET request\n",
    "        results = requests.get(url).json()[\"response\"]['groups'][0]['items']\n",
    "        \n",
    "        # return only relevant information for each nearby venue\n",
    "        venues_list.append([(\n",
    "            name, \n",
    "            lat, \n",
    "            lng, \n",
    "            v['venue']['name'], \n",
    "            v['venue']['location']['lat'], \n",
    "            v['venue']['location']['lng'],  \n",
    "            v['venue']['categories'][0]['name']) for v in results])\n",
    "\n",
    "    nearby_venues = pd.DataFrame([item for venue_list in venues_list for item in venue_list])\n",
    "    nearby_venues.columns = ['Neighborhood', \n",
    "                  'Neighborhood Latitude', \n",
    "                  'Neighborhood Longitude', \n",
    "                  'Venue', \n",
    "                  'Venue Latitude', \n",
    "                  'Venue Longitude', \n",
    "                  'Venue Category']\n",
    "    \n",
    "    return(nearby_venues)"
   ]
  },
  {
   "cell_type": "code",
   "execution_count": 24,
   "metadata": {},
   "outputs": [
    {
     "name": "stdout",
     "output_type": "stream",
     "text": [
      "10453\n",
      "10457\n",
      "10460\n",
      "10458\n",
      "10467\n",
      "10468\n",
      "10451\n",
      "10452\n",
      "10456\n",
      "10454\n",
      "10455\n",
      "10459\n",
      "10474\n",
      "10463\n",
      "10471\n",
      "10466\n",
      "10469\n",
      "10470\n",
      "10475\n",
      "10461\n",
      "10462\n",
      "10464\n",
      "10465\n",
      "10472\n",
      "10473\n",
      "11212\n",
      "11213\n",
      "11216\n",
      "11233\n",
      "11238\n",
      "11209\n",
      "11214\n",
      "11228\n",
      "11204\n",
      "11218\n",
      "11219\n",
      "11230\n",
      "11234\n",
      "11236\n",
      "11239\n",
      "11223\n",
      "11224\n",
      "11229\n",
      "11235\n",
      "11201\n",
      "11205\n",
      "11215\n",
      "11217\n",
      "11231\n",
      "11203\n",
      "11210\n",
      "11225\n",
      "11226\n",
      "11207\n",
      "11208\n",
      "11211\n",
      "11222\n",
      "11220\n",
      "11232\n",
      "11206\n",
      "11221\n",
      "11237\n",
      "10026\n",
      "10027\n",
      "10030\n",
      "10037\n",
      "10039\n",
      "10001\n",
      "10011\n",
      "10018\n",
      "10019\n",
      "10036\n",
      "10029\n",
      "10035\n",
      "10010\n",
      "10016\n",
      "10017\n",
      "10022\n",
      "10012\n",
      "10013\n",
      "10014\n",
      "10004\n",
      "10005\n",
      "10006\n",
      "10007\n",
      "10038\n",
      "10280\n",
      "10002\n",
      "10003\n",
      "10009\n",
      "10021\n",
      "10028\n",
      "10044\n",
      "10065\n",
      "10075\n",
      "10128\n",
      "10023\n",
      "10024\n",
      "10025\n",
      "10031\n",
      "10032\n",
      "10033\n",
      "10034\n",
      "10040\n",
      "11361\n",
      "11362\n",
      "11363\n",
      "11364\n",
      "11354\n",
      "11355\n",
      "11356\n",
      "11357\n",
      "11358\n",
      "11360\n",
      "11365\n",
      "11366\n",
      "11367\n",
      "11412\n",
      "11423\n",
      "11432\n",
      "11433\n",
      "11434\n",
      "11435\n",
      "11436\n",
      "11101\n",
      "11102\n",
      "11103\n",
      "11104\n",
      "11105\n",
      "11106\n",
      "11374\n",
      "11375\n",
      "11379\n",
      "11385\n",
      "11691\n",
      "11692\n",
      "11693\n",
      "11694\n",
      "11697\n",
      "11004\n",
      "11005\n",
      "11411\n",
      "11413\n",
      "11422\n",
      "11426\n",
      "11427\n",
      "11428\n",
      "11429\n",
      "11414\n",
      "11415\n",
      "11416\n",
      "11417\n",
      "11418\n",
      "11419\n",
      "11420\n",
      "11421\n",
      "11368\n",
      "11369\n",
      "11370\n",
      "11372\n",
      "11373\n",
      "11377\n",
      "11378\n",
      "10302\n",
      "10303\n",
      "10310\n",
      "10306\n",
      "10307\n",
      "10308\n",
      "10309\n",
      "10312\n",
      "10301\n",
      "10304\n",
      "10305\n",
      "10314\n"
     ]
    }
   ],
   "source": [
    "# apply the get venue function to NYC zip code dataframe\n",
    "nyc_venues = getNearbyVenues(names=df4['ZipCodes'],\n",
    "                                   latitudes=df4['LAT'],\n",
    "                                   longitudes=df4['LNG']\n",
    "                                  )"
   ]
  },
  {
   "cell_type": "code",
   "execution_count": 25,
   "metadata": {},
   "outputs": [
    {
     "name": "stdout",
     "output_type": "stream",
     "text": [
      "(469, 7)\n"
     ]
    },
    {
     "data": {
      "text/html": [
       "<div>\n",
       "<style scoped>\n",
       "    .dataframe tbody tr th:only-of-type {\n",
       "        vertical-align: middle;\n",
       "    }\n",
       "\n",
       "    .dataframe tbody tr th {\n",
       "        vertical-align: top;\n",
       "    }\n",
       "\n",
       "    .dataframe thead th {\n",
       "        text-align: right;\n",
       "    }\n",
       "</style>\n",
       "<table border=\"1\" class=\"dataframe\">\n",
       "  <thead>\n",
       "    <tr style=\"text-align: right;\">\n",
       "      <th></th>\n",
       "      <th>Neighborhood</th>\n",
       "      <th>Neighborhood Latitude</th>\n",
       "      <th>Neighborhood Longitude</th>\n",
       "      <th>Venue</th>\n",
       "      <th>Venue Latitude</th>\n",
       "      <th>Venue Longitude</th>\n",
       "      <th>Venue Category</th>\n",
       "    </tr>\n",
       "  </thead>\n",
       "  <tbody>\n",
       "    <tr>\n",
       "      <th>0</th>\n",
       "      <td>10458</td>\n",
       "      <td>40.862543</td>\n",
       "      <td>-73.888143</td>\n",
       "      <td>Chipotle Mexican Grill</td>\n",
       "      <td>40.860335</td>\n",
       "      <td>-73.890507</td>\n",
       "      <td>Taco Place</td>\n",
       "    </tr>\n",
       "    <tr>\n",
       "      <th>1</th>\n",
       "      <td>10467</td>\n",
       "      <td>40.869953</td>\n",
       "      <td>-73.865746</td>\n",
       "      <td>La Estrellita Poblana</td>\n",
       "      <td>40.867077</td>\n",
       "      <td>-73.867595</td>\n",
       "      <td>Mexican Restaurant</td>\n",
       "    </tr>\n",
       "    <tr>\n",
       "      <th>2</th>\n",
       "      <td>10451</td>\n",
       "      <td>40.820479</td>\n",
       "      <td>-73.925084</td>\n",
       "      <td>La Perla Restaurant</td>\n",
       "      <td>40.817281</td>\n",
       "      <td>-73.922249</td>\n",
       "      <td>Mexican Restaurant</td>\n",
       "    </tr>\n",
       "    <tr>\n",
       "      <th>3</th>\n",
       "      <td>10451</td>\n",
       "      <td>40.820479</td>\n",
       "      <td>-73.925084</td>\n",
       "      <td>Taco Bell</td>\n",
       "      <td>40.817215</td>\n",
       "      <td>-73.923504</td>\n",
       "      <td>Taco Place</td>\n",
       "    </tr>\n",
       "    <tr>\n",
       "      <th>4</th>\n",
       "      <td>10454</td>\n",
       "      <td>40.805489</td>\n",
       "      <td>-73.916585</td>\n",
       "      <td>Jalisco Tacos</td>\n",
       "      <td>40.806481</td>\n",
       "      <td>-73.915559</td>\n",
       "      <td>Taco Place</td>\n",
       "    </tr>\n",
       "  </tbody>\n",
       "</table>\n",
       "</div>"
      ],
      "text/plain": [
       "  Neighborhood  Neighborhood Latitude  Neighborhood Longitude  \\\n",
       "0        10458              40.862543              -73.888143   \n",
       "1        10467              40.869953              -73.865746   \n",
       "2        10451              40.820479              -73.925084   \n",
       "3        10451              40.820479              -73.925084   \n",
       "4        10454              40.805489              -73.916585   \n",
       "\n",
       "                    Venue  Venue Latitude  Venue Longitude      Venue Category  \n",
       "0  Chipotle Mexican Grill       40.860335       -73.890507          Taco Place  \n",
       "1   La Estrellita Poblana       40.867077       -73.867595  Mexican Restaurant  \n",
       "2     La Perla Restaurant       40.817281       -73.922249  Mexican Restaurant  \n",
       "3               Taco Bell       40.817215       -73.923504          Taco Place  \n",
       "4           Jalisco Tacos       40.806481       -73.915559          Taco Place  "
      ]
     },
     "execution_count": 25,
     "metadata": {},
     "output_type": "execute_result"
    }
   ],
   "source": [
    "print(nyc_venues.shape)\n",
    "nyc_venues.head()"
   ]
  },
  {
   "cell_type": "code",
   "execution_count": 26,
   "metadata": {},
   "outputs": [
    {
     "data": {
      "text/html": [
       "<div>\n",
       "<style scoped>\n",
       "    .dataframe tbody tr th:only-of-type {\n",
       "        vertical-align: middle;\n",
       "    }\n",
       "\n",
       "    .dataframe tbody tr th {\n",
       "        vertical-align: top;\n",
       "    }\n",
       "\n",
       "    .dataframe thead th {\n",
       "        text-align: right;\n",
       "    }\n",
       "</style>\n",
       "<table border=\"1\" class=\"dataframe\">\n",
       "  <thead>\n",
       "    <tr style=\"text-align: right;\">\n",
       "      <th></th>\n",
       "      <th>Neighborhood Latitude</th>\n",
       "      <th>Neighborhood Longitude</th>\n",
       "      <th>Venue</th>\n",
       "      <th>Venue Latitude</th>\n",
       "      <th>Venue Longitude</th>\n",
       "      <th>Venue Category</th>\n",
       "    </tr>\n",
       "    <tr>\n",
       "      <th>Neighborhood</th>\n",
       "      <th></th>\n",
       "      <th></th>\n",
       "      <th></th>\n",
       "      <th></th>\n",
       "      <th></th>\n",
       "      <th></th>\n",
       "    </tr>\n",
       "  </thead>\n",
       "  <tbody>\n",
       "    <tr>\n",
       "      <th>10001</th>\n",
       "      <td>10</td>\n",
       "      <td>10</td>\n",
       "      <td>10</td>\n",
       "      <td>10</td>\n",
       "      <td>10</td>\n",
       "      <td>10</td>\n",
       "    </tr>\n",
       "    <tr>\n",
       "      <th>10002</th>\n",
       "      <td>10</td>\n",
       "      <td>10</td>\n",
       "      <td>10</td>\n",
       "      <td>10</td>\n",
       "      <td>10</td>\n",
       "      <td>10</td>\n",
       "    </tr>\n",
       "    <tr>\n",
       "      <th>10003</th>\n",
       "      <td>10</td>\n",
       "      <td>10</td>\n",
       "      <td>10</td>\n",
       "      <td>10</td>\n",
       "      <td>10</td>\n",
       "      <td>10</td>\n",
       "    </tr>\n",
       "    <tr>\n",
       "      <th>10004</th>\n",
       "      <td>1</td>\n",
       "      <td>1</td>\n",
       "      <td>1</td>\n",
       "      <td>1</td>\n",
       "      <td>1</td>\n",
       "      <td>1</td>\n",
       "    </tr>\n",
       "    <tr>\n",
       "      <th>10005</th>\n",
       "      <td>10</td>\n",
       "      <td>10</td>\n",
       "      <td>10</td>\n",
       "      <td>10</td>\n",
       "      <td>10</td>\n",
       "      <td>10</td>\n",
       "    </tr>\n",
       "  </tbody>\n",
       "</table>\n",
       "</div>"
      ],
      "text/plain": [
       "              Neighborhood Latitude  Neighborhood Longitude  Venue  \\\n",
       "Neighborhood                                                         \n",
       "10001                            10                      10     10   \n",
       "10002                            10                      10     10   \n",
       "10003                            10                      10     10   \n",
       "10004                             1                       1      1   \n",
       "10005                            10                      10     10   \n",
       "\n",
       "              Venue Latitude  Venue Longitude  Venue Category  \n",
       "Neighborhood                                                   \n",
       "10001                     10               10              10  \n",
       "10002                     10               10              10  \n",
       "10003                     10               10              10  \n",
       "10004                      1                1               1  \n",
       "10005                     10               10              10  "
      ]
     },
     "execution_count": 26,
     "metadata": {},
     "output_type": "execute_result"
    }
   ],
   "source": [
    "# count values in each neighborhood - make sure they match\n",
    "nyc_venues.groupby('Neighborhood').count().head()"
   ]
  },
  {
   "cell_type": "code",
   "execution_count": 27,
   "metadata": {},
   "outputs": [
    {
     "data": {
      "text/html": [
       "<div>\n",
       "<style scoped>\n",
       "    .dataframe tbody tr th:only-of-type {\n",
       "        vertical-align: middle;\n",
       "    }\n",
       "\n",
       "    .dataframe tbody tr th {\n",
       "        vertical-align: top;\n",
       "    }\n",
       "\n",
       "    .dataframe thead th {\n",
       "        text-align: right;\n",
       "    }\n",
       "</style>\n",
       "<table border=\"1\" class=\"dataframe\">\n",
       "  <thead>\n",
       "    <tr style=\"text-align: right;\">\n",
       "      <th></th>\n",
       "      <th>ZipCodes</th>\n",
       "      <th>RestaurantCount</th>\n",
       "    </tr>\n",
       "  </thead>\n",
       "  <tbody>\n",
       "    <tr>\n",
       "      <th>0</th>\n",
       "      <td>10001</td>\n",
       "      <td>10</td>\n",
       "    </tr>\n",
       "    <tr>\n",
       "      <th>1</th>\n",
       "      <td>10002</td>\n",
       "      <td>10</td>\n",
       "    </tr>\n",
       "    <tr>\n",
       "      <th>2</th>\n",
       "      <td>10003</td>\n",
       "      <td>10</td>\n",
       "    </tr>\n",
       "    <tr>\n",
       "      <th>3</th>\n",
       "      <td>10004</td>\n",
       "      <td>1</td>\n",
       "    </tr>\n",
       "    <tr>\n",
       "      <th>4</th>\n",
       "      <td>10005</td>\n",
       "      <td>10</td>\n",
       "    </tr>\n",
       "  </tbody>\n",
       "</table>\n",
       "</div>"
      ],
      "text/plain": [
       "  ZipCodes  RestaurantCount\n",
       "0    10001               10\n",
       "1    10002               10\n",
       "2    10003               10\n",
       "3    10004                1\n",
       "4    10005               10"
      ]
     },
     "execution_count": 27,
     "metadata": {},
     "output_type": "execute_result"
    }
   ],
   "source": [
    "# create dataframe of restaurant counts per zip code\n",
    "venue_count_df = nyc_venues.groupby('Neighborhood', axis=0).count().reset_index()\n",
    "venue_count_df = venue_count_df.drop(['Neighborhood Latitude', 'Neighborhood Longitude', 'Venue Latitude', 'Venue Longitude', 'Venue Category'], axis=1)\n",
    "venue_count_df = venue_count_df.rename(index=str, columns={\"Neighborhood\": \"ZipCodes\", \"Venue\": \"RestaurantCount\"})\n",
    "venue_count_df.head()"
   ]
  },
  {
   "cell_type": "markdown",
   "metadata": {},
   "source": [
    "#### Merge final dataframe"
   ]
  },
  {
   "cell_type": "code",
   "execution_count": 28,
   "metadata": {},
   "outputs": [
    {
     "data": {
      "text/plain": [
       "(95, 7)"
      ]
     },
     "execution_count": 28,
     "metadata": {},
     "output_type": "execute_result"
    }
   ],
   "source": [
    "# Create new dataframe by merging dataframes\n",
    "df5 = df4.merge(venue_count_df, on=\"ZipCodes\")\n",
    "#df4 = df4.drop(columns='ZIP')\n",
    "df5.shape"
   ]
  },
  {
   "cell_type": "markdown",
   "metadata": {},
   "source": [
    "### Exploratory analysis"
   ]
  },
  {
   "cell_type": "markdown",
   "metadata": {},
   "source": [
    "#### Histograms"
   ]
  },
  {
   "cell_type": "code",
   "execution_count": 29,
   "metadata": {},
   "outputs": [
    {
     "data": {
      "image/png": "[encoded data removed]",
      "text/plain": [
       "<Figure size 864x288 with 3 Axes>"
      ]
     },
     "metadata": {
      "needs_background": "light"
     },
     "output_type": "display_data"
    }
   ],
   "source": [
    "fig, axes = plt.subplots(nrows=1, ncols=3, figsize=(12, 4))\n",
    "ax0, ax1, ax2 = axes.flat\n",
    "\n",
    "ax0.hist(df5['Population'])\n",
    "ax0.set_title('Population')\n",
    "\n",
    "ax1.hist(df5['Median_age'])\n",
    "ax1.set_title('Median_age')\n",
    "\n",
    "ax2.hist(df5['RestaurantCount'])\n",
    "ax2.set_title('RestaurantCount')\n",
    "\n",
    "#plt.tight_layout()\n",
    "plt.show()"
   ]
  },
  {
   "cell_type": "markdown",
   "metadata": {},
   "source": [
    "Population and median age are fairly uniformly distributed, but Zip Codes tend to have many or few taco restaurants."
   ]
  },
  {
   "cell_type": "markdown",
   "metadata": {},
   "source": [
    "#### Correlation"
   ]
  },
  {
   "cell_type": "code",
   "execution_count": 30,
   "metadata": {},
   "outputs": [
    {
     "data": {
      "text/html": [
       "<div>\n",
       "<style scoped>\n",
       "    .dataframe tbody tr th:only-of-type {\n",
       "        vertical-align: middle;\n",
       "    }\n",
       "\n",
       "    .dataframe tbody tr th {\n",
       "        vertical-align: top;\n",
       "    }\n",
       "\n",
       "    .dataframe thead th {\n",
       "        text-align: right;\n",
       "    }\n",
       "</style>\n",
       "<table border=\"1\" class=\"dataframe\">\n",
       "  <thead>\n",
       "    <tr style=\"text-align: right;\">\n",
       "      <th></th>\n",
       "      <th>Population</th>\n",
       "      <th>Median_age</th>\n",
       "      <th>RestaurantCount</th>\n",
       "    </tr>\n",
       "  </thead>\n",
       "  <tbody>\n",
       "    <tr>\n",
       "      <th>Population</th>\n",
       "      <td>1.000000</td>\n",
       "      <td>-0.118227</td>\n",
       "      <td>-0.160044</td>\n",
       "    </tr>\n",
       "    <tr>\n",
       "      <th>Median_age</th>\n",
       "      <td>-0.118227</td>\n",
       "      <td>1.000000</td>\n",
       "      <td>-0.034871</td>\n",
       "    </tr>\n",
       "    <tr>\n",
       "      <th>RestaurantCount</th>\n",
       "      <td>-0.160044</td>\n",
       "      <td>-0.034871</td>\n",
       "      <td>1.000000</td>\n",
       "    </tr>\n",
       "  </tbody>\n",
       "</table>\n",
       "</div>"
      ],
      "text/plain": [
       "                 Population  Median_age  RestaurantCount\n",
       "Population         1.000000   -0.118227        -0.160044\n",
       "Median_age        -0.118227    1.000000        -0.034871\n",
       "RestaurantCount   -0.160044   -0.034871         1.000000"
      ]
     },
     "execution_count": 30,
     "metadata": {},
     "output_type": "execute_result"
    }
   ],
   "source": [
    "corr_df = df5[['Population', 'Median_age', 'RestaurantCount']].copy()\n",
    "corr_df.corr()"
   ]
  },
  {
   "cell_type": "code",
   "execution_count": 31,
   "metadata": {},
   "outputs": [
    {
     "data": {
      "image/png": "[encoded data removed]",
      "text/plain": [
       "<Figure size 432x288 with 9 Axes>"
      ]
     },
     "metadata": {
      "needs_background": "light"
     },
     "output_type": "display_data"
    }
   ],
   "source": [
    "from pandas.plotting import scatter_matrix\n",
    "scatter_matrix(corr_df)\n",
    "plt.show()"
   ]
  },
  {
   "cell_type": "markdown",
   "metadata": {},
   "source": [
    "There is no correlation between any of the items."
   ]
  },
  {
   "cell_type": "markdown",
   "metadata": {},
   "source": [
    "#### 3D Scatterplot"
   ]
  },
  {
   "cell_type": "code",
   "execution_count": 32,
   "metadata": {},
   "outputs": [
    {
     "data": {
      "image/png": "[encoded data removed]",
      "text/plain": [
       "<Figure size 432x288 with 1 Axes>"
      ]
     },
     "metadata": {
      "needs_background": "light"
     },
     "output_type": "display_data"
    }
   ],
   "source": [
    "from matplotlib import pyplot\n",
    "from mpl_toolkits.mplot3d import Axes3D\n",
    "\n",
    "fig = pyplot.figure()\n",
    "ax = Axes3D(fig)\n",
    "\n",
    "ax.scatter(df5['Population'], df5['Median_age'], df5['RestaurantCount'])\n",
    "\n",
    "plt.xlabel('Population')\n",
    "plt.ylabel('MedianAge')\n",
    "ax.set_zlabel('RestaurantCount')\n",
    "\n",
    "pyplot.show()"
   ]
  },
  {
   "cell_type": "code",
   "execution_count": 33,
   "metadata": {},
   "outputs": [
    {
     "data": {
      "text/html": [
       "<div>\n",
       "<style scoped>\n",
       "    .dataframe tbody tr th:only-of-type {\n",
       "        vertical-align: middle;\n",
       "    }\n",
       "\n",
       "    .dataframe tbody tr th {\n",
       "        vertical-align: top;\n",
       "    }\n",
       "\n",
       "    .dataframe thead th {\n",
       "        text-align: right;\n",
       "    }\n",
       "</style>\n",
       "<table border=\"1\" class=\"dataframe\">\n",
       "  <thead>\n",
       "    <tr style=\"text-align: right;\">\n",
       "      <th></th>\n",
       "      <th>Count</th>\n",
       "    </tr>\n",
       "    <tr>\n",
       "      <th>Venue Category</th>\n",
       "      <th></th>\n",
       "    </tr>\n",
       "  </thead>\n",
       "  <tbody>\n",
       "    <tr>\n",
       "      <th>American Restaurant</th>\n",
       "      <td>1</td>\n",
       "    </tr>\n",
       "    <tr>\n",
       "      <th>BBQ Joint</th>\n",
       "      <td>2</td>\n",
       "    </tr>\n",
       "    <tr>\n",
       "      <th>Bakery</th>\n",
       "      <td>3</td>\n",
       "    </tr>\n",
       "    <tr>\n",
       "      <th>Bar</th>\n",
       "      <td>23</td>\n",
       "    </tr>\n",
       "    <tr>\n",
       "      <th>Beer Garden</th>\n",
       "      <td>3</td>\n",
       "    </tr>\n",
       "  </tbody>\n",
       "</table>\n",
       "</div>"
      ],
      "text/plain": [
       "                     Count\n",
       "Venue Category            \n",
       "American Restaurant      1\n",
       "BBQ Joint                2\n",
       "Bakery                   3\n",
       "Bar                     23\n",
       "Beer Garden              3"
      ]
     },
     "execution_count": 33,
     "metadata": {},
     "output_type": "execute_result"
    }
   ],
   "source": [
    "venue_cat_df = nyc_venues.groupby('Venue Category', axis=0).count()\n",
    "venue_cat_df = venue_cat_df.drop(['Neighborhood Latitude', 'Neighborhood Longitude','Venue', 'Venue Latitude', 'Venue Longitude'], axis=1)\n",
    "venue_cat_df = venue_cat_df.rename(index=str, columns={\"Neighborhood\": \"Count\"})\n",
    "#venue_cat_df.set_index('Venue Category')\n",
    "venue_cat_df.head()"
   ]
  },
  {
   "cell_type": "code",
   "execution_count": 34,
   "metadata": {},
   "outputs": [
    {
     "data": {
      "image/png": "[encoded data removed]",
      "text/plain": [
       "<Figure size 576x432 with 1 Axes>"
      ]
     },
     "metadata": {
      "needs_background": "light"
     },
     "output_type": "display_data"
    }
   ],
   "source": [
    "venue_cat_df.plot.barh(figsize=(8, 6))\n",
    "\n",
    "plt.ylabel('Venue Category') \n",
    "plt.xlabel('Venue Count') \n",
    "plt.title('Venue Category Count') \n",
    "plt.show()"
   ]
  },
  {
   "cell_type": "markdown",
   "metadata": {},
   "source": [
    "### Cluster Analysis"
   ]
  },
  {
   "cell_type": "markdown",
   "metadata": {},
   "source": [
    "<p>"
   ]
  },
  {
   "cell_type": "code",
   "execution_count": 35,
   "metadata": {},
   "outputs": [],
   "source": [
    "from matplotlib import pyplot\n",
    "from mpl_toolkits.mplot3d import Axes3D"
   ]
  },
  {
   "cell_type": "markdown",
   "metadata": {},
   "source": [
    "#### KNN Clustering"
   ]
  },
  {
   "cell_type": "code",
   "execution_count": 36,
   "metadata": {},
   "outputs": [
    {
     "data": {
      "text/plain": [
       "Population           int64\n",
       "Median_age         float64\n",
       "RestaurantCount      int64\n",
       "dtype: object"
      ]
     },
     "execution_count": 36,
     "metadata": {},
     "output_type": "execute_result"
    }
   ],
   "source": [
    "# set number of clusters\n",
    "kclusters = 5\n",
    "\n",
    "# create dataframe for cluster modeling and check data types\n",
    "knn_df = df5[['Population', 'Median_age', 'RestaurantCount']].copy()\n",
    "knn_df.dtypes"
   ]
  },
  {
   "cell_type": "markdown",
   "metadata": {},
   "source": [
    "##### Normalize data"
   ]
  },
  {
   "cell_type": "code",
   "execution_count": 37,
   "metadata": {},
   "outputs": [],
   "source": [
    "from sklearn.preprocessing import StandardScaler\n",
    "import numpy as np\n",
    "X = knn_df.values[:,1:]\n",
    "X = np.nan_to_num(X)\n",
    "Clus_dataSet = StandardScaler().fit_transform(X)\n",
    "#Clus_dataSet"
   ]
  },
  {
   "cell_type": "markdown",
   "metadata": {},
   "source": [
    "##### Find optimal number of k"
   ]
  },
  {
   "cell_type": "code",
   "execution_count": 38,
   "metadata": {},
   "outputs": [
    {
     "data": {
      "image/png": "[encoded data removed]",
      "text/plain": [
       "<Figure size 432x288 with 1 Axes>"
      ]
     },
     "metadata": {
      "needs_background": "light"
     },
     "output_type": "display_data"
    }
   ],
   "source": [
    "Sum_of_squared_distances = []\n",
    "K = range(1,15)\n",
    "for k in K:\n",
    "    km = KMeans(n_clusters=k)\n",
    "    km = km.fit(Clus_dataSet)\n",
    "    Sum_of_squared_distances.append(km.inertia_)\n",
    "    \n",
    "plt.plot(K, Sum_of_squared_distances, 'bx-')\n",
    "plt.xlabel('k')\n",
    "plt.ylabel('Sum_of_squared_distances')\n",
    "plt.title('Elbow Method For Optimal k')\n",
    "plt.show()"
   ]
  },
  {
   "cell_type": "markdown",
   "metadata": {},
   "source": [
    "Looks like the optimal number of k is 4"
   ]
  },
  {
   "cell_type": "markdown",
   "metadata": {},
   "source": [
    "##### Create KNN model"
   ]
  },
  {
   "cell_type": "code",
   "execution_count": 39,
   "metadata": {},
   "outputs": [
    {
     "name": "stdout",
     "output_type": "stream",
     "text": [
      "[0 0 0 0 0 0 2 0 2 0 0 0 3 2 2 0 2 2 2 3 0 0 3 0 0 3 0 0 0 0 3 0 0 3 1 3 1\n",
      " 1 3 0 3 3 1 1 3 1 1 0 3 3 3 3 0 1 3 3 1 1 1 1 1 1 2 1 3 0 3 0 2 2 0 2 2 0\n",
      " 0 0 0 1 0 0 2 2 2 2 2 2 2 0 0 0 1 0 0 2 2]\n"
     ]
    }
   ],
   "source": [
    "clusterNum = 4\n",
    "k_means = KMeans(init = \"k-means++\", n_clusters = clusterNum, n_init = 12)\n",
    "k_means.fit(X)\n",
    "labels = k_means.labels_\n",
    "print(labels)"
   ]
  },
  {
   "cell_type": "code",
   "execution_count": 40,
   "metadata": {},
   "outputs": [],
   "source": [
    "# apply cluster labels to dataframe\n",
    "df5[\"Clus_km\"] = labels\n",
    "final_df = df5[['ZipCodes', 'Population', 'Median_age', 'RestaurantCount', 'Clus_km']].copy()"
   ]
  },
  {
   "cell_type": "markdown",
   "metadata": {},
   "source": [
    "#### Cluster description"
   ]
  },
  {
   "cell_type": "code",
   "execution_count": 41,
   "metadata": {},
   "outputs": [
    {
     "data": {
      "text/html": [
       "<div>\n",
       "<style scoped>\n",
       "    .dataframe tbody tr th:only-of-type {\n",
       "        vertical-align: middle;\n",
       "    }\n",
       "\n",
       "    .dataframe tbody tr th {\n",
       "        vertical-align: top;\n",
       "    }\n",
       "\n",
       "    .dataframe thead th {\n",
       "        text-align: right;\n",
       "    }\n",
       "</style>\n",
       "<table border=\"1\" class=\"dataframe\">\n",
       "  <thead>\n",
       "    <tr style=\"text-align: right;\">\n",
       "      <th></th>\n",
       "      <th>Population</th>\n",
       "      <th>Median_age</th>\n",
       "      <th>RestaurantCount</th>\n",
       "    </tr>\n",
       "    <tr>\n",
       "      <th>Clus_km</th>\n",
       "      <th></th>\n",
       "      <th></th>\n",
       "      <th></th>\n",
       "    </tr>\n",
       "  </thead>\n",
       "  <tbody>\n",
       "    <tr>\n",
       "      <th>0</th>\n",
       "      <td>54352.078947</td>\n",
       "      <td>33.431579</td>\n",
       "      <td>2.394737</td>\n",
       "    </tr>\n",
       "    <tr>\n",
       "      <th>1</th>\n",
       "      <td>44426.529412</td>\n",
       "      <td>39.517647</td>\n",
       "      <td>9.294118</td>\n",
       "    </tr>\n",
       "    <tr>\n",
       "      <th>2</th>\n",
       "      <td>45544.571429</td>\n",
       "      <td>41.014286</td>\n",
       "      <td>1.809524</td>\n",
       "    </tr>\n",
       "    <tr>\n",
       "      <th>3</th>\n",
       "      <td>41467.157895</td>\n",
       "      <td>33.268421</td>\n",
       "      <td>9.578947</td>\n",
       "    </tr>\n",
       "  </tbody>\n",
       "</table>\n",
       "</div>"
      ],
      "text/plain": [
       "           Population  Median_age  RestaurantCount\n",
       "Clus_km                                           \n",
       "0        54352.078947   33.431579         2.394737\n",
       "1        44426.529412   39.517647         9.294118\n",
       "2        45544.571429   41.014286         1.809524\n",
       "3        41467.157895   33.268421         9.578947"
      ]
     },
     "execution_count": 41,
     "metadata": {},
     "output_type": "execute_result"
    }
   ],
   "source": [
    "final_df.groupby('Clus_km').mean()"
   ]
  },
  {
   "cell_type": "markdown",
   "metadata": {},
   "source": [
    "Looks like Cluster 1 is the best option.\n",
    "\n",
    "It has the highest population, the second lowest median age and the second to lowest number of taco restaurants."
   ]
  },
  {
   "cell_type": "code",
   "execution_count": 42,
   "metadata": {},
   "outputs": [
    {
     "data": {
      "image/png": "[encoded data removed]",
      "text/plain": [
       "<Figure size 432x288 with 1 Axes>"
      ]
     },
     "metadata": {
      "needs_background": "light"
     },
     "output_type": "display_data"
    }
   ],
   "source": [
    "fig = pyplot.figure()\n",
    "ax = Axes3D(fig)\n",
    "\n",
    "ax.scatter(df5['Population'], df5['Median_age'], df5['RestaurantCount'],c= labels.astype(np.float))\n",
    "\n",
    "plt.xlabel('Population')\n",
    "plt.ylabel('MedianAge')\n",
    "ax.set_zlabel('RestaurantCount')\n",
    "\n",
    "pyplot.show()"
   ]
  },
  {
   "cell_type": "markdown",
   "metadata": {},
   "source": [
    "#### Show best cluster"
   ]
  },
  {
   "cell_type": "code",
   "execution_count": 50,
   "metadata": {},
   "outputs": [
    {
     "name": "stdout",
     "output_type": "stream",
     "text": [
      "There are 19 zip codes in the desired cluster.\n"
     ]
    },
    {
     "data": {
      "text/html": [
       "<div>\n",
       "<style scoped>\n",
       "    .dataframe tbody tr th:only-of-type {\n",
       "        vertical-align: middle;\n",
       "    }\n",
       "\n",
       "    .dataframe tbody tr th {\n",
       "        vertical-align: top;\n",
       "    }\n",
       "\n",
       "    .dataframe thead th {\n",
       "        text-align: right;\n",
       "    }\n",
       "</style>\n",
       "<table border=\"1\" class=\"dataframe\">\n",
       "  <thead>\n",
       "    <tr style=\"text-align: right;\">\n",
       "      <th></th>\n",
       "      <th>ZipCodes</th>\n",
       "      <th>Neighborhood</th>\n",
       "      <th>LAT</th>\n",
       "      <th>LNG</th>\n",
       "      <th>Population</th>\n",
       "      <th>Median_age</th>\n",
       "      <th>RestaurantCount</th>\n",
       "      <th>Clus_km</th>\n",
       "    </tr>\n",
       "  </thead>\n",
       "  <tbody>\n",
       "    <tr>\n",
       "      <th>12</th>\n",
       "      <td>11238</td>\n",
       "      <td>Central Brooklyn</td>\n",
       "      <td>40.679171</td>\n",
       "      <td>-73.963804</td>\n",
       "      <td>51959</td>\n",
       "      <td>34.8</td>\n",
       "      <td>10</td>\n",
       "      <td>3</td>\n",
       "    </tr>\n",
       "    <tr>\n",
       "      <th>19</th>\n",
       "      <td>11201</td>\n",
       "      <td>Northwest Brooklyn</td>\n",
       "      <td>40.693682</td>\n",
       "      <td>-73.989693</td>\n",
       "      <td>56488</td>\n",
       "      <td>34.9</td>\n",
       "      <td>10</td>\n",
       "      <td>3</td>\n",
       "    </tr>\n",
       "    <tr>\n",
       "      <th>22</th>\n",
       "      <td>11217</td>\n",
       "      <td>Northwest Brooklyn</td>\n",
       "      <td>40.682306</td>\n",
       "      <td>-73.978099</td>\n",
       "      <td>38567</td>\n",
       "      <td>35.4</td>\n",
       "      <td>8</td>\n",
       "      <td>3</td>\n",
       "    </tr>\n",
       "    <tr>\n",
       "      <th>25</th>\n",
       "      <td>11211</td>\n",
       "      <td>Greenpoint</td>\n",
       "      <td>40.712597</td>\n",
       "      <td>-73.953098</td>\n",
       "      <td>94681</td>\n",
       "      <td>30.1</td>\n",
       "      <td>10</td>\n",
       "      <td>3</td>\n",
       "    </tr>\n",
       "    <tr>\n",
       "      <th>30</th>\n",
       "      <td>11237</td>\n",
       "      <td>Bushwick and Williamsburg</td>\n",
       "      <td>40.704160</td>\n",
       "      <td>-73.921139</td>\n",
       "      <td>55258</td>\n",
       "      <td>29.1</td>\n",
       "      <td>10</td>\n",
       "      <td>3</td>\n",
       "    </tr>\n",
       "    <tr>\n",
       "      <th>33</th>\n",
       "      <td>10001</td>\n",
       "      <td>Chelsea and Clinton</td>\n",
       "      <td>40.750633</td>\n",
       "      <td>-73.997177</td>\n",
       "      <td>22767</td>\n",
       "      <td>34.4</td>\n",
       "      <td>10</td>\n",
       "      <td>3</td>\n",
       "    </tr>\n",
       "    <tr>\n",
       "      <th>35</th>\n",
       "      <td>10018</td>\n",
       "      <td>Chelsea and Clinton</td>\n",
       "      <td>40.755319</td>\n",
       "      <td>-73.993114</td>\n",
       "      <td>8062</td>\n",
       "      <td>30.6</td>\n",
       "      <td>10</td>\n",
       "      <td>3</td>\n",
       "    </tr>\n",
       "    <tr>\n",
       "      <th>38</th>\n",
       "      <td>10029</td>\n",
       "      <td>East Harlem</td>\n",
       "      <td>40.791763</td>\n",
       "      <td>-73.943970</td>\n",
       "      <td>77857</td>\n",
       "      <td>33.5</td>\n",
       "      <td>10</td>\n",
       "      <td>3</td>\n",
       "    </tr>\n",
       "    <tr>\n",
       "      <th>40</th>\n",
       "      <td>10010</td>\n",
       "      <td>Gramercy Park and Murray Hill</td>\n",
       "      <td>40.739065</td>\n",
       "      <td>-73.982255</td>\n",
       "      <td>30708</td>\n",
       "      <td>35.7</td>\n",
       "      <td>10</td>\n",
       "      <td>3</td>\n",
       "    </tr>\n",
       "    <tr>\n",
       "      <th>41</th>\n",
       "      <td>10016</td>\n",
       "      <td>Gramercy Park and Murray Hill</td>\n",
       "      <td>40.745224</td>\n",
       "      <td>-73.978297</td>\n",
       "      <td>50112</td>\n",
       "      <td>33.1</td>\n",
       "      <td>10</td>\n",
       "      <td>3</td>\n",
       "    </tr>\n",
       "    <tr>\n",
       "      <th>44</th>\n",
       "      <td>10012</td>\n",
       "      <td>Greenwich Village and Soho</td>\n",
       "      <td>40.725581</td>\n",
       "      <td>-73.998078</td>\n",
       "      <td>24846</td>\n",
       "      <td>34.5</td>\n",
       "      <td>10</td>\n",
       "      <td>3</td>\n",
       "    </tr>\n",
       "    <tr>\n",
       "      <th>48</th>\n",
       "      <td>10005</td>\n",
       "      <td>Lower Manhattan</td>\n",
       "      <td>40.706027</td>\n",
       "      <td>-74.008835</td>\n",
       "      <td>7570</td>\n",
       "      <td>28.8</td>\n",
       "      <td>10</td>\n",
       "      <td>3</td>\n",
       "    </tr>\n",
       "    <tr>\n",
       "      <th>49</th>\n",
       "      <td>10006</td>\n",
       "      <td>Lower Manhattan</td>\n",
       "      <td>40.709614</td>\n",
       "      <td>-74.012954</td>\n",
       "      <td>2950</td>\n",
       "      <td>31.0</td>\n",
       "      <td>7</td>\n",
       "      <td>3</td>\n",
       "    </tr>\n",
       "    <tr>\n",
       "      <th>50</th>\n",
       "      <td>10007</td>\n",
       "      <td>Lower Manhattan</td>\n",
       "      <td>40.713848</td>\n",
       "      <td>-74.007755</td>\n",
       "      <td>6748</td>\n",
       "      <td>34.9</td>\n",
       "      <td>9</td>\n",
       "      <td>3</td>\n",
       "    </tr>\n",
       "    <tr>\n",
       "      <th>51</th>\n",
       "      <td>10038</td>\n",
       "      <td>Lower Manhattan</td>\n",
       "      <td>40.709278</td>\n",
       "      <td>-74.002562</td>\n",
       "      <td>20997</td>\n",
       "      <td>33.6</td>\n",
       "      <td>10</td>\n",
       "      <td>3</td>\n",
       "    </tr>\n",
       "    <tr>\n",
       "      <th>54</th>\n",
       "      <td>10003</td>\n",
       "      <td>Lower East Side</td>\n",
       "      <td>40.731829</td>\n",
       "      <td>-73.989181</td>\n",
       "      <td>57068</td>\n",
       "      <td>32.2</td>\n",
       "      <td>10</td>\n",
       "      <td>3</td>\n",
       "    </tr>\n",
       "    <tr>\n",
       "      <th>55</th>\n",
       "      <td>10009</td>\n",
       "      <td>Lower East Side</td>\n",
       "      <td>40.726399</td>\n",
       "      <td>-73.978631</td>\n",
       "      <td>61806</td>\n",
       "      <td>36.2</td>\n",
       "      <td>10</td>\n",
       "      <td>3</td>\n",
       "    </tr>\n",
       "    <tr>\n",
       "      <th>64</th>\n",
       "      <td>10031</td>\n",
       "      <td>Inwood and Washington Heights</td>\n",
       "      <td>40.825288</td>\n",
       "      <td>-73.950045</td>\n",
       "      <td>58912</td>\n",
       "      <td>33.4</td>\n",
       "      <td>8</td>\n",
       "      <td>3</td>\n",
       "    </tr>\n",
       "    <tr>\n",
       "      <th>66</th>\n",
       "      <td>10033</td>\n",
       "      <td>Inwood and Washington Heights</td>\n",
       "      <td>40.850545</td>\n",
       "      <td>-73.933983</td>\n",
       "      <td>60520</td>\n",
       "      <td>35.9</td>\n",
       "      <td>10</td>\n",
       "      <td>3</td>\n",
       "    </tr>\n",
       "  </tbody>\n",
       "</table>\n",
       "</div>"
      ],
      "text/plain": [
       "   ZipCodes                    Neighborhood        LAT        LNG  Population  \\\n",
       "12    11238                Central Brooklyn  40.679171 -73.963804       51959   \n",
       "19    11201              Northwest Brooklyn  40.693682 -73.989693       56488   \n",
       "22    11217              Northwest Brooklyn  40.682306 -73.978099       38567   \n",
       "25    11211                      Greenpoint  40.712597 -73.953098       94681   \n",
       "30    11237       Bushwick and Williamsburg  40.704160 -73.921139       55258   \n",
       "33    10001             Chelsea and Clinton  40.750633 -73.997177       22767   \n",
       "35    10018             Chelsea and Clinton  40.755319 -73.993114        8062   \n",
       "38    10029                     East Harlem  40.791763 -73.943970       77857   \n",
       "40    10010   Gramercy Park and Murray Hill  40.739065 -73.982255       30708   \n",
       "41    10016   Gramercy Park and Murray Hill  40.745224 -73.978297       50112   \n",
       "44    10012      Greenwich Village and Soho  40.725581 -73.998078       24846   \n",
       "48    10005                 Lower Manhattan  40.706027 -74.008835        7570   \n",
       "49    10006                 Lower Manhattan  40.709614 -74.012954        2950   \n",
       "50    10007                 Lower Manhattan  40.713848 -74.007755        6748   \n",
       "51    10038                 Lower Manhattan  40.709278 -74.002562       20997   \n",
       "54    10003                 Lower East Side  40.731829 -73.989181       57068   \n",
       "55    10009                 Lower East Side  40.726399 -73.978631       61806   \n",
       "64    10031   Inwood and Washington Heights  40.825288 -73.950045       58912   \n",
       "66    10033   Inwood and Washington Heights  40.850545 -73.933983       60520   \n",
       "\n",
       "    Median_age  RestaurantCount  Clus_km  \n",
       "12        34.8               10        3  \n",
       "19        34.9               10        3  \n",
       "22        35.4                8        3  \n",
       "25        30.1               10        3  \n",
       "30        29.1               10        3  \n",
       "33        34.4               10        3  \n",
       "35        30.6               10        3  \n",
       "38        33.5               10        3  \n",
       "40        35.7               10        3  \n",
       "41        33.1               10        3  \n",
       "44        34.5               10        3  \n",
       "48        28.8               10        3  \n",
       "49        31.0                7        3  \n",
       "50        34.9                9        3  \n",
       "51        33.6               10        3  \n",
       "54        32.2               10        3  \n",
       "55        36.2               10        3  \n",
       "64        33.4                8        3  \n",
       "66        35.9               10        3  "
      ]
     },
     "execution_count": 50,
     "metadata": {},
     "output_type": "execute_result"
    }
   ],
   "source": [
    "# Create variable with TRUE if nationality is USA\n",
    "best_cluster = df5['Clus_km'] == 3\n",
    "\n",
    "# Select all cases where nationality is USA and age is greater than 50\n",
    "best_df = df5[best_cluster]\n",
    "best_df.to_csv()\n",
    "print('There are {} zip codes in the desired cluster.'.format(best_df.shape[0]))\n",
    "best_df"
   ]
  },
  {
   "cell_type": "code",
   "execution_count": 51,
   "metadata": {},
   "outputs": [
    {
     "data": {
      "text/html": [
       "<div style=\"width:100%;\"><div style=\"position:relative;width:100%;height:0;padding-bottom:60%;\"><iframe src=\"data:text/html;charset=utf-8;base64,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\" style=\"position:absolute;width:100%;height:100%;left:0;top:0;border:none !important;\" allowfullscreen webkitallowfullscreen mozallowfullscreen></iframe></div></div>"
      ],
      "text/plain": [
       "<folium.folium.Map at 0x7f5dd47bdc88>"
      ]
     },
     "execution_count": 51,
     "metadata": {},
     "output_type": "execute_result"
    }
   ],
   "source": [
    "#find geo coordinates of NYC\n",
    "address = 'New York City, NY'\n",
    "\n",
    "geolocator = Nominatim(user_agent=\"ny_explorer\")\n",
    "location = geolocator.geocode(address)\n",
    "latitude = location.latitude\n",
    "longitude = location.longitude\n",
    "#print('The geograpical coordinates of New York City are {}, {}.'.format(latitude, longitude))\n",
    "\n",
    "# create map of New York City using latitude and longitude values\n",
    "location_map = folium.Map(location=[latitude, longitude], zoom_start=11)\n",
    "\n",
    "# add neighborhood markers to map\n",
    "for lat, lng, zipcode, neighborhood in zip(best_df['LAT'], best_df['LNG'], best_df['ZipCodes'], best_df['Neighborhood']):\n",
    "    label = '{}, {}'.format(zipcode, neighborhood)\n",
    "    label = folium.Popup(label, parse_html=True)\n",
    "    folium.CircleMarker(\n",
    "        [lat, lng],\n",
    "        radius=5,\n",
    "        popup=label,\n",
    "        color='blue',\n",
    "        fill=True,\n",
    "        fill_color='#3186cc',\n",
    "        fill_opacity=0.7,\n",
    "        parse_html=False).add_to(location_map)  \n",
    "    \n",
    "location_map"
   ]
  },
  {
   "cell_type": "markdown",
   "metadata": {},
   "source": [
    "### Overlay Subway stops"
   ]
  },
  {
   "cell_type": "code",
   "execution_count": 52,
   "metadata": {},
   "outputs": [
    {
     "data": {
      "text/html": [
       "<div>\n",
       "<style scoped>\n",
       "    .dataframe tbody tr th:only-of-type {\n",
       "        vertical-align: middle;\n",
       "    }\n",
       "\n",
       "    .dataframe tbody tr th {\n",
       "        vertical-align: top;\n",
       "    }\n",
       "\n",
       "    .dataframe thead th {\n",
       "        text-align: right;\n",
       "    }\n",
       "</style>\n",
       "<table border=\"1\" class=\"dataframe\">\n",
       "  <thead>\n",
       "    <tr style=\"text-align: right;\">\n",
       "      <th></th>\n",
       "      <th>Station ID</th>\n",
       "      <th>Complex ID</th>\n",
       "      <th>GTFS Stop ID</th>\n",
       "      <th>Division</th>\n",
       "      <th>Line</th>\n",
       "      <th>Stop Name</th>\n",
       "      <th>Borough</th>\n",
       "      <th>Daytime Routes</th>\n",
       "      <th>Structure</th>\n",
       "      <th>GTFS Latitude</th>\n",
       "      <th>GTFS Longitude</th>\n",
       "    </tr>\n",
       "  </thead>\n",
       "  <tbody>\n",
       "    <tr>\n",
       "      <th>0</th>\n",
       "      <td>1</td>\n",
       "      <td>1</td>\n",
       "      <td>R01</td>\n",
       "      <td>BMT</td>\n",
       "      <td>Astoria</td>\n",
       "      <td>Astoria - Ditmars Blvd</td>\n",
       "      <td>Q</td>\n",
       "      <td>N W</td>\n",
       "      <td>Elevated</td>\n",
       "      <td>40.775036</td>\n",
       "      <td>-73.912034</td>\n",
       "    </tr>\n",
       "    <tr>\n",
       "      <th>1</th>\n",
       "      <td>2</td>\n",
       "      <td>2</td>\n",
       "      <td>R03</td>\n",
       "      <td>BMT</td>\n",
       "      <td>Astoria</td>\n",
       "      <td>Astoria Blvd</td>\n",
       "      <td>Q</td>\n",
       "      <td>N W</td>\n",
       "      <td>Elevated</td>\n",
       "      <td>40.770258</td>\n",
       "      <td>-73.917843</td>\n",
       "    </tr>\n",
       "    <tr>\n",
       "      <th>2</th>\n",
       "      <td>3</td>\n",
       "      <td>3</td>\n",
       "      <td>R04</td>\n",
       "      <td>BMT</td>\n",
       "      <td>Astoria</td>\n",
       "      <td>30 Av</td>\n",
       "      <td>Q</td>\n",
       "      <td>N W</td>\n",
       "      <td>Elevated</td>\n",
       "      <td>40.766779</td>\n",
       "      <td>-73.921479</td>\n",
       "    </tr>\n",
       "    <tr>\n",
       "      <th>3</th>\n",
       "      <td>4</td>\n",
       "      <td>4</td>\n",
       "      <td>R05</td>\n",
       "      <td>BMT</td>\n",
       "      <td>Astoria</td>\n",
       "      <td>Broadway</td>\n",
       "      <td>Q</td>\n",
       "      <td>N W</td>\n",
       "      <td>Elevated</td>\n",
       "      <td>40.761820</td>\n",
       "      <td>-73.925508</td>\n",
       "    </tr>\n",
       "    <tr>\n",
       "      <th>4</th>\n",
       "      <td>5</td>\n",
       "      <td>5</td>\n",
       "      <td>R06</td>\n",
       "      <td>BMT</td>\n",
       "      <td>Astoria</td>\n",
       "      <td>36 Av</td>\n",
       "      <td>Q</td>\n",
       "      <td>N W</td>\n",
       "      <td>Elevated</td>\n",
       "      <td>40.756804</td>\n",
       "      <td>-73.929575</td>\n",
       "    </tr>\n",
       "  </tbody>\n",
       "</table>\n",
       "</div>"
      ],
      "text/plain": [
       "   Station ID  Complex ID GTFS Stop ID Division     Line  \\\n",
       "0           1           1          R01      BMT  Astoria   \n",
       "1           2           2          R03      BMT  Astoria   \n",
       "2           3           3          R04      BMT  Astoria   \n",
       "3           4           4          R05      BMT  Astoria   \n",
       "4           5           5          R06      BMT  Astoria   \n",
       "\n",
       "                Stop Name Borough Daytime Routes Structure  GTFS Latitude  \\\n",
       "0  Astoria - Ditmars Blvd       Q            N W  Elevated      40.775036   \n",
       "1            Astoria Blvd       Q            N W  Elevated      40.770258   \n",
       "2                   30 Av       Q            N W  Elevated      40.766779   \n",
       "3                Broadway       Q            N W  Elevated      40.761820   \n",
       "4                   36 Av       Q            N W  Elevated      40.756804   \n",
       "\n",
       "   GTFS Longitude  \n",
       "0      -73.912034  \n",
       "1      -73.917843  \n",
       "2      -73.921479  \n",
       "3      -73.925508  \n",
       "4      -73.929575  "
      ]
     },
     "execution_count": 52,
     "metadata": {},
     "output_type": "execute_result"
    }
   ],
   "source": [
    "# Import csv of subway loactions\n",
    "data = pd.read_csv('subway_locations.csv')\n",
    "data.head()"
   ]
  },
  {
   "cell_type": "code",
   "execution_count": 46,
   "metadata": {},
   "outputs": [],
   "source": [
    "map_data = data[['Stop Name', 'GTFS Latitude', 'GTFS Longitude']].copy()"
   ]
  },
  {
   "cell_type": "code",
   "execution_count": 54,
   "metadata": {},
   "outputs": [
    {
     "data": {
      "text/html": [
       "<div style=\"width:100%;\"><div style=\"position:relative;width:100%;height:0;padding-bottom:60%;\"><iframe src=\"data:text/html;charset=utf-8;base64,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\" style=\"position:absolute;width:100%;height:100%;left:0;top:0;border:none !important;\" allowfullscreen webkitallowfullscreen mozallowfullscreen></iframe></div></div>"
      ],
      "text/plain": [
       "<folium.folium.Map at 0x7f5dd46f3f28>"
      ]
     },
     "execution_count": 54,
     "metadata": {},
     "output_type": "execute_result"
    }
   ],
   "source": [
    "from folium.plugins import HeatMap\n",
    "\n",
    "hm_lat = 40.7128\n",
    "hm_lat = 74.0060\n",
    "\n",
    "nyc_latitude = map_data['GTFS Latitude'].values[0]  \n",
    "nyc_longitude = map_data['GTFS Longitude'].values[0]\n",
    "\n",
    "subway_heatmap = folium.Map(location=[nyc_latitude, nyc_longitude], zoom_start=11)\n",
    "\n",
    "# List comprehension to make out list of lists of Crime Loatitude and Longitude\n",
    "heat_data = [[row['GTFS Latitude'], \n",
    "              row['GTFS Longitude']] for index, row in map_data.iterrows()]\n",
    "\n",
    "# Plot the crimes on the map\n",
    "HeatMap(heat_data,\n",
    "        min_opacity=40,\n",
    "        max_zoom=18, \n",
    "        max_val=1.0, \n",
    "        radius=15,\n",
    "        blur=29,\n",
    "        gradient=None,\n",
    "        overlay=True).add_to(subway_heatmap)\n",
    "\n",
    "# add neighborhood markers to map\n",
    "for lat, lng, zipcode, neighborhood in zip(best_df['LAT'], best_df['LNG'], best_df['ZipCodes'], best_df['Neighborhood']):\n",
    "    label = '{}, {}'.format(zipcode, neighborhood)\n",
    "    label = folium.Popup(label, parse_html=True)\n",
    "    folium.CircleMarker(\n",
    "        [lat, lng],\n",
    "        radius=5,\n",
    "        popup=label,\n",
    "        color='blue',\n",
    "        fill=True,\n",
    "        fill_color='#3186cc',\n",
    "        fill_opacity=0.7,\n",
    "        parse_html=False).add_to(subway_heatmap)  \n",
    "\n",
    "subway_heatmap"
   ]
  },
  {
   "cell_type": "markdown",
   "metadata": {},
   "source": [
    "## Results"
   ]
  },
  {
   "cell_type": "markdown",
   "metadata": {},
   "source": [
    "<p>Cluster 1 appears to provide the best zip codes matching my initial hypotheses – this provides a list of 19 zip codes spread out over 11 neighborhoods.</p>\n",
    "<p>To narrow down even further - overlaying the density of subway stops over the map.</p> \n",
    "<p>Lower Manhattan and Northwest and Central Brooklyn are two groups of zip codes prioritized for further exploration.</p> \n"
   ]
  },
  {
   "cell_type": "markdown",
   "metadata": {},
   "source": [
    "## Discussion"
   ]
  },
  {
   "cell_type": "markdown",
   "metadata": {},
   "source": [
    "<p><strong>Limitations</strong></p>\n",
    "<p>I faced many limitations that could affect this analysis. Because of the Foursquare API I could only limit the number of locations per zip code to 10 before using all my allotted calls from the service. I also only used subway locations – it is possible there are better public transportation modes I should consider such as bus stops and bike share locations.</p>\n",
    "<p>With those considerations, I am still happy with my analysis as</p>\n",
    "\n",
    "<p><strong>Further Study Needed</strong></p>\n",
    "<ul>\n",
    "<li>Does competition help or hurt? My hypothesis is that nearby taco places will help my profitability, but further study might show that being the only nearby taco restaurant is better for business.</li>\n",
    "<li>How does concentration of complimentary venues – or venues likely to be visited next after eating at a taco restaurant – contribute to the success of a restaurant?</li>\n",
    "<li>My analysis only contained subway stops – there are also buses and bikeshares available. Does including these additional modes of transportation change my results?</li>\n",
    "<li>Once I select a location – can I use Foursquare API to mine further data about features and attributes of well liked restaurants in the location?</li>\n",
    "</ul>"
   ]
  },
  {
   "cell_type": "markdown",
   "metadata": {},
   "source": [
    "## Conclusion"
   ]
  },
  {
   "cell_type": "code",
   "execution_count": null,
   "metadata": {},
   "outputs": [],
   "source": []
  }
 ],
 "metadata": {
  "kernelspec": {
   "display_name": "Python 3",
   "language": "python",
   "name": "python3"
  },
  "language_info": {
   "codemirror_mode": {
    "name": "ipython",
    "version": 3
   },
   "file_extension": ".py",
   "mimetype": "text/x-python",
   "name": "python",
   "nbconvert_exporter": "python",
   "pygments_lexer": "ipython3",
   "version": "3.6.8"
  }
 },
 "nbformat": 4,
 "nbformat_minor": 2
}
